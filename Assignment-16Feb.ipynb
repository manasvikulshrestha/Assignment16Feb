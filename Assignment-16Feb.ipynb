{
 "cells": [
  {
   "cell_type": "markdown",
   "id": "f7f24955-c59c-4d80-aa3f-5f400f10295d",
   "metadata": {},
   "source": [
    "Q1. What is a database? Differentiate between SQL and NoSQL databases. \n",
    "A1. A database is an organized collection of structured information, or data, typically stored electronically in a computer system. A database is usually controlled by a database management system (DBMS). Together, the data and the DBMS, along with the applications that are associated with them, are referred to as a database system, often shortened to just database.\n",
    "Data within the most common types of databases in operation today is typically modeled in rows and columns in a series of tables to make processing and data querying efficient. The data can then be easily accessed, managed, modified, updated, controlled, and organized. Most databases use structured query language (SQL) for writing and querying data.\n",
    "\n",
    "The five critical differences between SQL and NoSQL are:\n",
    "- SQL databases are relational, and NoSQL databases are non-relational.\n",
    "- SQL databases use structured query language (SQL) and have a predefined schema. NoSQL databases have dynamic schemas for unstructured data.\n",
    "- SQL databases are vertically scalable, while NoSQL databases are horizontally scalable.\n",
    "- SQL databases are table-based, while NoSQL databases are document, key-value, graph, or wide-column stores.\n",
    "- SQL databases are better for multi-row transactions, while NoSQL is better for unstructured data like documents or JSON."
   ]
  },
  {
   "cell_type": "markdown",
   "id": "18033bf5-f6ec-4b11-a1ab-361fe0705fa7",
   "metadata": {},
   "source": [
    "Q2. What is DDL? Explain why CREATE, DROP, ALTER, and TRUNCATE are used with an example. \n",
    "A2. Data Definition Language(DDL) is a subset of SQL and a part of DBMS(Database Management System). DDL consist of Commands to commands like CREATE, ALTER, TRUNCATE and DROP. These commands are used to create or modify the tables in SQL.\n",
    "DDL Commands :\n",
    "- Create: \n",
    "This command is used to create a new table in SQL. The user has to give information like table name, column names, and their datatypes.\n",
    "Example:\n",
    "CREATE TABLE Student_info\n",
    "(\n",
    "College_Id number(2),\n",
    "College_name varchar(30),\n",
    "Branch varchar(10)\n",
    ");\n",
    "\n",
    "- Alter:\n",
    "This command is used to add, delete or change columns in the existing table. The user needs to know the existing table name and can do add, delete or modify tasks easily.\n",
    "Example:\n",
    "ALTER TABLE Student_info\n",
    "ADD CGPA number;\n",
    "\n",
    "- Truncate:\n",
    "This command is used to remove all rows from the table, but the structure of the table still exists.\n",
    "Example:\n",
    "TRUNCATE TABLE Student_info;\n",
    "\n",
    "- Drop:\n",
    "This command is used to remove an existing table along with its structure from the Database.\n",
    "Example:\n",
    "DROP TABLE Student_info;\n",
    "\n",
    "- Rename:\n",
    "It is possible to change name of table with or without data in it using simple RENAME command.\n",
    "Example:\n",
    "RENAME TABLE Employee To EMP;"
   ]
  },
  {
   "cell_type": "markdown",
   "id": "2f9059e7-cdc5-4b9c-8d9a-942a22c69552",
   "metadata": {},
   "source": [
    "Q3. What is DML? Explain INSERT, UPDATE, and DELETE with an example. \n",
    "A3. DML stands for Data Manipulation Language. Tables and formulas are helpful when communicating with data stored up to a point in a database through SQL (Structured Query Language), but a time comes when we actually want to execute some fairly complicated data interactions. We will also need the Data Manipulation Language in that situation. DML is a way to inform a database precisely what we want it to do by conversing in a manner that it has been built to comprehend from scratch. When it comes to interacting with existing data, whether adding, moving, or deleting data, it provides a convenient way to do so. It performs interpret-only data queries. It is used in a database schema to recall and manipulate the information. DML It is a dialect which is used to select, insert, delete and update data in a database. Data Manipulation Language (DML) commands are as follows:\n",
    "\n",
    "- INSERT:\n",
    "This command is used to enter the information or values into a row. We can connect one or more records to a single table within a repository using this instruction. This is often used to connect an unused tag to the documents.\n",
    "Example :\n",
    "INSERT INTO students ('stu_id' int, 'stu_name' varchar(20), 'city' varchar(20))\n",
    "VALUES ('1', 'Nirmit', 'Gorakhpur');\n",
    "\n",
    "- UPDATE:\n",
    "This command is used to alter existing table records. Within a table, it modifies data from one or more records. This command is used to alter the data which is already present in a table.\n",
    "Example:\n",
    "UPDATE students\n",
    "SET due_fees = 20000\n",
    "WHERE stu_name = 'Mini';\n",
    "\n",
    "- DELETE: \n",
    "It deletes all archives from a table. This command is used to erase some or all of the previous table’s records. If we do not specify the ‘WHERE’ condition then all the rows would be erased or deleted.\n",
    "Example:\n",
    "DELETE FROM students\n",
    "WHERE stu_id = '001'; "
   ]
  },
  {
   "cell_type": "markdown",
   "id": "497ee90b-7144-4550-9dca-195094bfa3a9",
   "metadata": {},
   "source": [
    "Q4. What is DQL? Explain SELECT with an example. \n",
    "A4. DQL statements are employed to conduct inquiries on the information contained in schema objects. The main purpose of the DQL command is to provide a schema according to the query written. We can understand DQL as follows: It is also a SQL statement that is sued to get the data from the given database and apply order to it. The SELECT statement is used in the DQL command. With the SELECT command, we can get the data from the database and manipulate it as we want. When the SELECT statement is used on the tables, there is another table in the output, and it is called the front-end table. This table is presented or may even be used by the program.\n",
    "Data Query Language (DQL) is one of the basic sub-languages of SQL statements. There are generally four categories in SQL languages which are data query language (DQL), data definition language (DDL), data control language (DCL), and data manipulation language(DML). It is also occasionally suggested that a transaction control language (TCL) belongs in the sub-language set. Although sometimes mistaken for a DML component, the SELECT statement is actually a DQL example. The SELECT statement becomes a component of the DML when FROM or WHERE data manipulators are added.\n",
    "\n",
    "- SELECT Command:\n",
    "The most utilized SQL statement is select. Data from a database can be retrieved or fetched using the SELECT Statement in SQL. Either the entire table or a subset of it can be retrieved. A result table contains the data that was returned. The result set also refers to this result table. In the SELECT command, either we can show all the columns, or we can get some specific columns in the result of the query according to the clause we use in the statement. The SELECT statement is analyzed by the database server, and it is determined which one is the first clause and which one is the last. This analysis is very much needed because we have to be very cautious about which column should be included in the result and which one should not be included.\n",
    "Example:\n",
    "SELECT * \n",
    "FROM students\n",
    "where due_fees <=20000;"
   ]
  },
  {
   "cell_type": "markdown",
   "id": "2140a17b-709e-4a2b-ace6-eb326e9ba4de",
   "metadata": {},
   "source": [
    "Q5. Explain Primary Key and Foreign Key. \n",
    "A5. Keys are one of the most important elements in a relational database to maintain the relationship between the tables and it also helps in uniquely identifying the data from a table. The primary Key is a key that helps in uniquely identifying the tuple of the database whereas the Foreign Key is a key that is used to identify the relationship between the tables through the primary key of one table that is the primary key one table acts as a foreign key to another table.\n",
    "\n",
    "- PRIMARY KEY:\n",
    "A primary key is used to ensure that data in the specific column is unique. A column cannot have NULL values. It is either an existing table column or a column that is specifically generated by the database according to a defined sequence. \n",
    "Example: STUD_NO, as well as STUD_PHONE both, are candidate keys for relation STUDENT but STUD_NO can be chosen as the primary key (only one out of many candidate keys). \n",
    "\n",
    "- FOREIGN KEY:\n",
    "A foreign key is a column or group of columns in a relational database table that provides a link between data in two tables. It is a column (or columns) that references a column (most often the primary key) of another table. \n",
    "Example: STUD_NO in STUDENT_COURSE is a foreign key to STUD_NO in STUDENT relation. "
   ]
  },
  {
   "cell_type": "markdown",
   "id": "936ed877-6b4d-4855-b89e-8886cc680310",
   "metadata": {},
   "source": [
    "Q6. Write a python code to connect MySQL to python. Explain the cursor() and execute() method. \n",
    "A6. \n",
    "- cursor()\n",
    "Allows Python code to execute PostgreSQL command in a database session. Cursors are created by the connection.cursor() method: they are bound to the connection for the entire lifetime and all the commands are executed in the context of the database session wrapped by the connection.\n",
    "Cursors created from the same connection are not isolated, i.e., any changes done to the database by a cursor are immediately visible by the other cursors. Cursors created from different connections can or can not be isolated, depending on the connections’ isolation level. See also rollback() and commit() methods.\n",
    "\n",
    "- execute()\n",
    "Execute a database operation (query or command).\n",
    "Parameters may be provided as sequence or mapping and will be bound to variables in the operation. Variables are specified either with positional (%s) or named (%(name)s) placeholders. See Passing parameters to SQL queries.\n",
    "The method returns None. If a query was executed, the returned values can be retrieved using fetch*() methods."
   ]
  },
  {
   "cell_type": "raw",
   "id": "b5224ed3-6933-4ff7-9a44-d74798abb818",
   "metadata": {},
   "source": [
    "# A6. python code to connect MySQL to python\n",
    "\n",
    "import mysql.connector\n",
    "mydb = mysql.connector.connect(\n",
    "    host = \"localhost\",\n",
    "    user = \"abc\",\n",
    "    password = \"password\"\n",
    ")\n",
    "\n",
    "# this part of the code is common for all connections, just have to change hostname, username and password"
   ]
  },
  {
   "cell_type": "markdown",
   "id": "d12c9147-711b-444e-a1c5-c499d6e36a71",
   "metadata": {},
   "source": [
    "Q7. Give the order of execution of SQL clauses in an SQL query. \n",
    "A7. SQL Query Order of Execution is the arrangement in which a database framework executes SQL queries. It is imperative to understand the order of operations to optimize the execution order of sql queries and dodge errors.\n",
    "The order of query execution in SQL is the order in which the various clauses in a SQL statement are executed. Generally, the order is as follows:\n",
    "\n",
    "- FROM clause\n",
    "- WHERE clause\n",
    "- GROUP BY clause\n",
    "- HAVING clause\n",
    "- SELECT clause\n",
    "ORDER BY clause\n",
    "LIMIT clause"
   ]
  }
 ],
 "metadata": {
  "kernelspec": {
   "display_name": "Python 3 (ipykernel)",
   "language": "python",
   "name": "python3"
  },
  "language_info": {
   "codemirror_mode": {
    "name": "ipython",
    "version": 3
   },
   "file_extension": ".py",
   "mimetype": "text/x-python",
   "name": "python",
   "nbconvert_exporter": "python",
   "pygments_lexer": "ipython3",
   "version": "3.10.8"
  }
 },
 "nbformat": 4,
 "nbformat_minor": 5
}
